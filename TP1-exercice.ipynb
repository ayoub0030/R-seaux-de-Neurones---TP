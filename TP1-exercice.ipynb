{
 "cells": [
  {
   "cell_type": "code",
   "execution_count": 1,
   "metadata": {},
   "outputs": [],
   "source": [
    "import numpy as np"
   ]
  },
  {
   "cell_type": "code",
   "execution_count": 2,
   "id": "e0da22a3",
   "metadata": {},
   "outputs": [
    {
     "name": "stdout",
     "output_type": "stream",
     "text": [
      "0.5\n"
     ]
    }
   ],
   "source": [
    "def sigmoid(z):\n",
    "    res=1 / (1 + np.exp(-z))\n",
    "    return res\n",
    "\n",
    "print(sigmoid(0))"
   ]
  },
  {
   "cell_type": "code",
   "execution_count": 3,
   "id": "f92b76ad",
   "metadata": {},
   "outputs": [
    {
     "name": "stdout",
     "output_type": "stream",
     "text": [
      "0.9933071490757153\n"
     ]
    }
   ],
   "source": [
    "def forward(x, w, b):\n",
    "    \n",
    "    \n",
    "    z = np.dot(x, w) + b\n",
    "  \n",
    "    y_pred = sigmoid(z)\n",
    "    return y_pred\n",
    "print(forward(1,2,3))"
   ]
  },
  {
   "cell_type": "code",
   "execution_count": 6,
   "id": "c2761f5a",
   "metadata": {},
   "outputs": [
    {
     "ename": "TypeError",
     "evalue": "unsupported operand type(s) for -: 'list' and 'list'",
     "output_type": "error",
     "traceback": [
      "\u001b[1;31m---------------------------------------------------------------------------\u001b[0m",
      "\u001b[1;31mTypeError\u001b[0m                                 Traceback (most recent call last)",
      "Cell \u001b[1;32mIn[6], line 4\u001b[0m\n\u001b[0;32m      2\u001b[0m     res\u001b[38;5;241m=\u001b[39m(\u001b[38;5;241m0.5\u001b[39m \u001b[38;5;241m*\u001b[39m np\u001b[38;5;241m.\u001b[39mmean((y \u001b[38;5;241m-\u001b[39m y_pred)\u001b[38;5;241m*\u001b[39m\u001b[38;5;241m*\u001b[39m\u001b[38;5;241m2\u001b[39m))\n\u001b[0;32m      3\u001b[0m     \u001b[38;5;28;01mreturn\u001b[39;00m res\n\u001b[1;32m----> 4\u001b[0m \u001b[38;5;28mprint\u001b[39m(loss([\u001b[38;5;241m1\u001b[39m,\u001b[38;5;241m2\u001b[39m,\u001b[38;5;241m3\u001b[39m],[\u001b[38;5;241m1\u001b[39m,\u001b[38;5;241m2.6\u001b[39m,\u001b[38;5;241m3.6\u001b[39m]))\n",
      "Cell \u001b[1;32mIn[6], line 2\u001b[0m, in \u001b[0;36mloss\u001b[1;34m(y, y_pred)\u001b[0m\n\u001b[0;32m      1\u001b[0m \u001b[38;5;28;01mdef\u001b[39;00m \u001b[38;5;21mloss\u001b[39m(y, y_pred):\n\u001b[1;32m----> 2\u001b[0m     res\u001b[38;5;241m=\u001b[39m(\u001b[38;5;241m0.5\u001b[39m \u001b[38;5;241m*\u001b[39m np\u001b[38;5;241m.\u001b[39mmean((y \u001b[38;5;241m-\u001b[39m y_pred)\u001b[38;5;241m*\u001b[39m\u001b[38;5;241m*\u001b[39m\u001b[38;5;241m2\u001b[39m))\n\u001b[0;32m      3\u001b[0m     \u001b[38;5;28;01mreturn\u001b[39;00m res\n",
      "\u001b[1;31mTypeError\u001b[0m: unsupported operand type(s) for -: 'list' and 'list'"
     ]
    }
   ],
   "source": [
    "def loss(y, y_pred):\n",
    "    res=(0.5 * np.mean((y - y_pred)**2))\n",
    "    return res\n",
    "print(loss([1,2,3],[1,2.6,3.6]))"
   ]
  },
  {
   "cell_type": "code",
   "execution_count": null,
   "id": "1451e3cb",
   "metadata": {},
   "outputs": [
    {
     "name": "stdout",
     "output_type": "stream",
     "text": [
      "(5.333333333333333, 2.6666666666666665)\n"
     ]
    }
   ],
   "source": [
    "def backward(x, y, y_pred):\n",
    "  \n",
    "    num_samples = x.shape[0]\n",
    "    \n",
    "    delta = (y_pred - y) * y_pred * (1 - y_pred)\n",
    "    \n",
    "    dw = np.dot(x.T, delta) / num_samples\n",
    "    \n",
    "    db = np.mean(delta)\n",
    "    \n",
    "    return dw, db\n",
    "x=np.array([1,2,3])\n",
    "y=np.array([1,6,3])\n",
    "y_pred=np.array([1,2,3])    \n",
    "print(backward(x,y,y_pred))"
   ]
  },
  {
   "cell_type": "code",
   "execution_count": 10,
   "id": "3e93e41a",
   "metadata": {},
   "outputs": [
    {
     "name": "stdout",
     "output_type": "stream",
     "text": [
      "Epoch 0, Perte: 0.2605\n",
      "(array([[-1.01358521],\n",
      "       [ 2.5550218 ]]), array([[0.14550112]]))\n"
     ]
    }
   ],
   "source": [
    "def gradient_descent(X, y, lr=0.1, epochs=1000):\n",
    "    \n",
    "    num_features = X.shape[1]\n",
    "    w = np.random.randn(num_features, 1)\n",
    "    b = np.zeros((1, 1))\n",
    "    \n",
    "    for epoch in range(epochs):\n",
    "        y_pred = forward(X, w, b)\n",
    "        \n",
    "        dw, db = backward(X, y, y_pred)\n",
    "        w = w - lr * dw\n",
    "        b = b - lr * db\n",
    "        \n",
    "        if epoch % 1000 == 0:\n",
    "            current_loss = loss(y, y_pred)\n",
    "            print(f\"Epoch {epoch}, Perte: {current_loss:.4f}\")\n",
    "            \n",
    "    return w, b\n",
    "x=np.array([[1,2],[3,4]])\n",
    "y=np.array([[1],[2]])\n",
    "print(gradient_descent(x, y))"
   ]
  },
  {
   "cell_type": "code",
   "execution_count": null,
   "id": "fe2714fc",
   "metadata": {},
   "outputs": [],
   "source": []
  }
 ],
 "metadata": {
  "kernelspec": {
   "display_name": "base",
   "language": "python",
   "name": "python3"
  },
  "language_info": {
   "codemirror_mode": {
    "name": "ipython",
    "version": 3
   },
   "file_extension": ".py",
   "mimetype": "text/x-python",
   "name": "python",
   "nbconvert_exporter": "python",
   "pygments_lexer": "ipython3",
   "version": "3.11.5"
  }
 },
 "nbformat": 4,
 "nbformat_minor": 5
}
