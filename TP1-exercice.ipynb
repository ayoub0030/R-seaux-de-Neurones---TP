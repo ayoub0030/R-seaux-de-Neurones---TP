{
 "cells": [
  {
   "cell_type": "code",
   "execution_count": 1,
   "metadata": {},
   "outputs": [],
   "source": [
    "import numpy as np"
   ]
  },
  {
   "cell_type": "code",
   "execution_count": 2,
   "id": "e0da22a3",
   "metadata": {},
   "outputs": [
    {
     "name": "stdout",
     "output_type": "stream",
     "text": [
      "0.5\n"
     ]
    }
   ],
   "source": [
    "def sigmoid(z):\n",
    "    res=1 / (1 + np.exp(-z))\n",
    "    return res\n",
    "\n",
    "print(sigmoid(0))"
   ]
  },
  {
   "cell_type": "code",
   "execution_count": 3,
   "id": "f92b76ad",
   "metadata": {},
   "outputs": [
    {
     "name": "stdout",
     "output_type": "stream",
     "text": [
      "0.9933071490757153\n"
     ]
    }
   ],
   "source": [
    "def forward(x, w, b):\n",
    "    \n",
    "    \n",
    "    z = np.dot(x, w) + b\n",
    "  \n",
    "    y_pred = sigmoid(z)\n",
    "    return y_pred\n",
    "print(forward(1,2,3))"
   ]
  },
  {
   "cell_type": "code",
   "execution_count": 11,
   "id": "c2761f5a",
   "metadata": {},
   "outputs": [
    {
     "name": "stdout",
     "output_type": "stream",
     "text": [
      "0.12000000000000004\n"
     ]
    }
   ],
   "source": [
    "def loss(y, y_pred):\n",
    "    y = np.array(y)\n",
    "    y_pred = np.array(y_pred)\n",
    "    return 0.5 * np.mean((y - y_pred)**2)\n",
    "\n",
    "print(loss([1,2,3], [1,2.6,3.6]))"
   ]
  },
  {
   "cell_type": "code",
   "execution_count": null,
   "id": "1451e3cb",
   "metadata": {},
   "outputs": [
    {
     "name": "stdout",
     "output_type": "stream",
     "text": [
      "(5.333333333333333, 2.6666666666666665)\n"
     ]
    }
   ],
   "source": [
    "def backward(x, y, y_pred):\n",
    "  \n",
    "    num_samples = x.shape[0]\n",
    "    \n",
    "    delta = (y_pred - y) * y_pred * (1 - y_pred)\n",
    "    \n",
    "    dw = np.dot(x.T, delta) / num_samples\n",
    "    \n",
    "    db = np.mean(delta)\n",
    "    \n",
    "    return dw, db\n",
    "x=np.array([1,2,3])\n",
    "y=np.array([1,6,3])\n",
    "y_pred=np.array([1,2,3])    \n",
    "print(backward(x,y,y_pred))"
   ]
  },
  {
   "cell_type": "code",
   "execution_count": 10,
   "id": "3e93e41a",
   "metadata": {},
   "outputs": [
    {
     "name": "stdout",
     "output_type": "stream",
     "text": [
      "Epoch 0, Perte: 0.2605\n",
      "(array([[-1.01358521],\n",
      "       [ 2.5550218 ]]), array([[0.14550112]]))\n"
     ]
    }
   ],
   "source": [
    "def gradient_descent(X, y, lr=0.1, epochs=1000):\n",
    "    \n",
    "    num_features = X.shape[1]\n",
    "    w = np.random.randn(num_features, 1)\n",
    "    b = np.zeros((1, 1))\n",
    "    \n",
    "    for epoch in range(epochs):\n",
    "        y_pred = forward(X, w, b)\n",
    "        \n",
    "        dw, db = backward(X, y, y_pred)\n",
    "        w = w - lr * dw\n",
    "        b = b - lr * db\n",
    "        \n",
    "        if epoch % 1000 == 0:\n",
    "            current_loss = loss(y, y_pred)\n",
    "            print(f\"Epoch {epoch}, Perte: {current_loss:.4f}\")\n",
    "            \n",
    "    return w, b\n",
    "x=np.array([[1,2],[3,4]])\n",
    "y=np.array([[1],[2]])\n",
    "print(gradient_descent(x, y))"
   ]
  },
  {
   "cell_type": "code",
   "execution_count": null,
   "id": "fe2714fc",
   "metadata": {},
   "outputs": [],
   "source": [
    "X_train = np.array([[0, 0], [0, 1], [1, 0], [1, 1]])\n",
    "y_train = np.array([[0], [1], [1], [1]])\n",
    "\n",
    "print(\"--- Début de l'entraînement sur la porte OR ---\")\n",
    "w_final, b_final = gradient_descent(X_train, y_train, lr=0.5, epochs=10000)\n",
    "\n",
    "print(\"\\n--- Entraînement terminé ---\")\n",
    "print(f\"Poids finaux (w): {w_final.flatten()}\")\n",
    "print(f\"Biais final (b): {b_final.flatten()}\")"
   ]
  }
 ],
 "metadata": {
  "kernelspec": {
   "display_name": "base",
   "language": "python",
   "name": "python3"
  },
  "language_info": {
   "codemirror_mode": {
    "name": "ipython",
    "version": 3
   },
   "file_extension": ".py",
   "mimetype": "text/x-python",
   "name": "python",
   "nbconvert_exporter": "python",
   "pygments_lexer": "ipython3",
   "version": "3.11.5"
  }
 },
 "nbformat": 4,
 "nbformat_minor": 5
}
