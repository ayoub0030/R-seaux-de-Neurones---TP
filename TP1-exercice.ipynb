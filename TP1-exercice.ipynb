{
 "cells": [
  {
   "cell_type": "code",
   "execution_count": 1,
   "metadata": {},
   "outputs": [],
   "source": [
    "import numpy as np"
   ]
  },
  {
   "cell_type": "code",
   "execution_count": 2,
   "id": "e0da22a3",
   "metadata": {},
   "outputs": [
    {
     "name": "stdout",
     "output_type": "stream",
     "text": [
      "0.5\n"
     ]
    }
   ],
   "source": [
    "def sigmoid(z):\n",
    "    res=1 / (1 + np.exp(-z))\n",
    "    return res\n",
    "\n",
    "print(sigmoid(0))"
   ]
  },
  {
   "cell_type": "code",
   "execution_count": 3,
   "id": "f92b76ad",
   "metadata": {},
   "outputs": [
    {
     "name": "stdout",
     "output_type": "stream",
     "text": [
      "0.9933071490757153\n"
     ]
    }
   ],
   "source": [
    "def forward(x, w, b):\n",
    "    \n",
    "    \n",
    "    z = np.dot(x, w) + b\n",
    "  \n",
    "    y_pred = sigmoid(z)\n",
    "    return y_pred\n",
    "print(forward(1,2,3))"
   ]
  },
  {
   "cell_type": "code",
   "execution_count": 11,
   "id": "c2761f5a",
   "metadata": {},
   "outputs": [
    {
     "name": "stdout",
     "output_type": "stream",
     "text": [
      "0.12000000000000004\n"
     ]
    }
   ],
   "source": [
    "def loss(y, y_pred):\n",
    "    y = np.array(y)\n",
    "    y_pred = np.array(y_pred)\n",
    "    return 0.5 * np.mean((y - y_pred)**2)\n",
    "\n",
    "print(loss([1,2,3], [1,2.6,3.6]))"
   ]
  },
  {
   "cell_type": "code",
   "execution_count": null,
   "id": "1451e3cb",
   "metadata": {},
   "outputs": [
    {
     "name": "stdout",
     "output_type": "stream",
     "text": [
      "(5.333333333333333, 2.6666666666666665)\n"
     ]
    }
   ],
   "source": [
    "def backward(x, y, y_pred):\n",
    "  \n",
    "    num_samples = x.shape[0]\n",
    "    \n",
    "    delta = (y_pred - y) * y_pred * (1 - y_pred)\n",
    "    \n",
    "    dw = np.dot(x.T, delta) / num_samples\n",
    "    \n",
    "    db = np.mean(delta)\n",
    "    \n",
    "    return dw, db\n",
    "x=np.array([1,2,3])\n",
    "y=np.array([1,6,3])\n",
    "y_pred=np.array([1,2,3])    \n",
    "print(backward(x,y,y_pred))"
   ]
  },
  {
   "cell_type": "code",
   "execution_count": 10,
   "id": "3e93e41a",
   "metadata": {},
   "outputs": [
    {
     "name": "stdout",
     "output_type": "stream",
     "text": [
      "Epoch 0, Perte: 0.2605\n",
      "(array([[-1.01358521],\n",
      "       [ 2.5550218 ]]), array([[0.14550112]]))\n"
     ]
    }
   ],
   "source": [
    "def gradient_descent(X, y, lr=0.1, epochs=1000):\n",
    "    \n",
    "    num_features = X.shape[1]\n",
    "    w = np.random.randn(num_features, 1)\n",
    "    b = np.zeros((1, 1))\n",
    "    \n",
    "    for epoch in range(epochs):\n",
    "        y_pred = forward(X, w, b)\n",
    "        \n",
    "        dw, db = backward(X, y, y_pred)\n",
    "        w = w - lr * dw\n",
    "        b = b - lr * db\n",
    "        \n",
    "        if epoch % 1000 == 0:\n",
    "            current_loss = loss(y, y_pred)\n",
    "            print(f\"Epoch {epoch}, Perte: {current_loss:.4f}\")\n",
    "            \n",
    "    return w, b\n",
    "x=np.array([[1,2],[3,4]])\n",
    "y=np.array([[1],[2]])\n",
    "print(gradient_descent(x, y))"
   ]
  },
  {
   "cell_type": "code",
   "execution_count": 12,
   "id": "fe2714fc",
   "metadata": {},
   "outputs": [
    {
     "name": "stdout",
     "output_type": "stream",
     "text": [
      "Epoch 0, Perte: 0.1121\n",
      "Epoch 1000, Perte: 0.0070\n",
      "Epoch 2000, Perte: 0.0032\n",
      "Epoch 3000, Perte: 0.0020\n",
      "Epoch 4000, Perte: 0.0014\n",
      "Epoch 5000, Perte: 0.0011\n",
      "Epoch 6000, Perte: 0.0009\n",
      "Epoch 7000, Perte: 0.0008\n",
      "Epoch 8000, Perte: 0.0007\n",
      "Epoch 9000, Perte: 0.0006\n",
      " (w): [6.43167508 6.43167434]\n",
      " (b): [-2.97174705]\n"
     ]
    }
   ],
   "source": [
    "X_train = np.array([[0, 0], [0, 1], [1, 0], [1, 1]])\n",
    "y_train = np.array([[0], [1], [1], [1]])\n",
    "w_final, b_final = gradient_descent(X_train, y_train, lr=0.5, epochs=10000)\n",
    "\n",
    "print(f\" (w): {w_final.flatten()}\")\n",
    "print(f\" (b): {b_final.flatten()}\")"
   ]
  },
  {
   "cell_type": "code",
   "execution_count": null,
   "id": "cccbc943",
   "metadata": {},
   "outputs": [
    {
     "name": "stdout",
     "output_type": "stream",
     "text": [
      "Entrée: [0, 0], Prédiction: 0\n",
      "Entrée: [0, 1], Prédiction: 1\n",
      "Entrée: [1, 0], Prédiction: 1\n",
      "Entrée: [1, 1], Prédiction: 1\n"
     ]
    }
   ],
   "source": [
    "import matplotlib.pyplot as plt\n",
    "from matplotlib.colors import ListedColormap\n",
    "import numpy as np\n",
    "\n",
    "def plot_decision_boundary(X, y, w, b, title):\n",
    "    # Create a mesh grid for visualization\n",
    "    h = 0.02  # step size in the mesh\n",
    "    x_min, x_max = X[:, 0].min() - 0.5, X[:, 0].max() + 0.5\n",
    "    y_min, y_max = X[:, 1].min() - 0.5, X[:, 1].max() + 0.5\n",
    "    xx, yy = np.meshgrid(np.arange(x_min, x_max, h),\n",
    "                         np.arange(y_min, y_max, h))\n",
    "    \n",
    "    # Predict for each point in the mesh grid\n",
    "    Z = forward(np.c_[xx.ravel(), yy.ravel()], w, b)\n",
    "    Z = Z.reshape(xx.shape)\n",
    "    \n",
    "    # Plot the decision boundary and data points\n",
    "    plt.figure(figsize=(8, 6))\n",
    "    plt.contourf(xx, yy, Z > 0.5, alpha=0.4, cmap=ListedColormap(('#FFAAAA', '#AAAAFF')))\n",
    "    plt.scatter(X[:, 0], X[:, 1], c=y.ravel(), cmap=ListedColormap(('red', 'blue')), \n",
    "                edgecolors='k', s=100)\n",
    "    plt.xlim(xx.min(), xx.max())\n",
    "    plt.ylim(yy.min(), yy.max())\n",
    "    plt.title(title)\n",
    "    plt.xlabel('Input 1')\n",
    "    plt.ylabel('Input 2')\n",
    "    plt.show()\n",
    "\n",
    "def calculate_accuracy(X, y, w, b):\n",
    "    predictions = forward(X, w, b) > 0.5\n",
    "    accuracy = np.mean(predictions == y.astype(bool)) * 100\n",
    "    return accuracy\n",
    "\n",
    "# Plot decision boundary for OR gate\n",
    "plot_decision_boundary(X_train, y_train, w_final, b_final, \n",
    "                      \"Decision Boundary for OR Gate\")\n",
    "\n",
    "# Calculate and print accuracy\n",
    "accuracy = calculate_accuracy(X_train, y_train, w_final, b_final)\n",
    "print(f\"Model accuracy on training data: {accuracy:.2f}%\")\n",
    "\n",
    "# Test the model on new data\n",
    "test_inputs = np.array([[0.5, 0.5], [0.2, 0.8], [0.7, 0.3]])\n",
    "for i, test_input in enumerate(test_inputs):\n",
    "    pred = forward(test_input, w_final, b_final)\n",
    "    result = 1 if pred > 0.5 else 0\n",
    "    print(f\"Test input {i+1}: {test_input} -> Prediction: {result} (Confidence: {pred[0][0]:.2f})\")"
   ]
  },
  {
   "cell_type": "code",
   "execution_count": null,
   "id": "9633a0ae",
   "metadata": {},
   "outputs": [],
   "source": [
    "def plot_decision_boundary(X, y, w, b, title):\n",
    "    h = 0.02\n",
    "    x_min, x_max = X[:, 0].min() - 0.5, X[:, 0].max() + 0.5\n",
    "    y_min, y_max = X[:, 1].min() - 0.5, X[:, 1].max() + 0.5\n",
    "    xx, yy = np.meshgrid(np.arange(x_min, x_max, h),\n",
    "                         np.arange(y_min, y_max, h))\n",
    "    \n",
    "    Z = forward(np.c_[xx.ravel(), yy.ravel()], w, b)\n",
    "    Z = Z.reshape(xx.shape)\n",
    "    \n",
    "    plt.figure(figsize=(8, 6))\n",
    "    plt.contourf(xx, yy, Z > 0.5, alpha=0.4, cmap=ListedColormap(('#FFAAAA', '#AAAAFF')))\n",
    "    plt.scatter(X[:, 0], X[:, 1], c=y.ravel(), cmap=ListedColormap(('red', 'blue')), \n",
    "                edgecolors='k', s=100)\n",
    "    plt.xlim(xx.min(), xx.max())\n",
    "    plt.ylim(yy.min(), yy.max())\n",
    "    plt.title(title)\n",
    "    plt.xlabel('Input 1')\n",
    "    plt.ylabel('Input 2')\n",
    "    plt.show()"
   ]
  }
 ],
 "metadata": {
  "kernelspec": {
   "display_name": "base",
   "language": "python",
   "name": "python3"
  },
  "language_info": {
   "codemirror_mode": {
    "name": "ipython",
    "version": 3
   },
   "file_extension": ".py",
   "mimetype": "text/x-python",
   "name": "python",
   "nbconvert_exporter": "python",
   "pygments_lexer": "ipython3",
   "version": "3.11.5"
  }
 },
 "nbformat": 4,
 "nbformat_minor": 5
}
