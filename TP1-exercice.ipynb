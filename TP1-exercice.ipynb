{
 "cells": [
  {
   "cell_type": "code",
   "execution_count": 1,
   "metadata": {},
   "outputs": [],
   "source": [
    "import numpy as np"
   ]
  },
  {
   "cell_type": "code",
   "execution_count": 2,
   "id": "e0da22a3",
   "metadata": {},
   "outputs": [
    {
     "name": "stdout",
     "output_type": "stream",
     "text": [
      "0.5\n"
     ]
    }
   ],
   "source": [
    "def sigmoid(z):\n",
    "    res=1 / (1 + np.exp(-z))\n",
    "    return res\n",
    "\n",
    "print(sigmoid(0))"
   ]
  },
  {
   "cell_type": "code",
   "execution_count": 3,
   "id": "f92b76ad",
   "metadata": {},
   "outputs": [
    {
     "name": "stdout",
     "output_type": "stream",
     "text": [
      "0.9933071490757153\n"
     ]
    }
   ],
   "source": [
    "def forward(x, w, b):\n",
    "    \n",
    "    \n",
    "    z = np.dot(x, w) + b\n",
    "  \n",
    "    y_pred = sigmoid(z)\n",
    "    return y_pred\n",
    "print(forward(1,2,3))"
   ]
  },
  {
   "cell_type": "code",
   "execution_count": 11,
   "id": "c2761f5a",
   "metadata": {},
   "outputs": [
    {
     "name": "stdout",
     "output_type": "stream",
     "text": [
      "0.12000000000000004\n"
     ]
    }
   ],
   "source": [
    "def loss(y, y_pred):\n",
    "    y = np.array(y)\n",
    "    y_pred = np.array(y_pred)\n",
    "    return 0.5 * np.mean((y - y_pred)**2)\n",
    "\n",
    "print(loss([1,2,3], [1,2.6,3.6]))"
   ]
  },
  {
   "cell_type": "code",
   "execution_count": null,
   "id": "1451e3cb",
   "metadata": {},
   "outputs": [
    {
     "name": "stdout",
     "output_type": "stream",
     "text": [
      "(5.333333333333333, 2.6666666666666665)\n"
     ]
    }
   ],
   "source": [
    "def backward(x, y, y_pred):\n",
    "  \n",
    "    num_samples = x.shape[0]\n",
    "    \n",
    "    delta = (y_pred - y) * y_pred * (1 - y_pred)\n",
    "    \n",
    "    dw = np.dot(x.T, delta) / num_samples\n",
    "    \n",
    "    db = np.mean(delta)\n",
    "    \n",
    "    return dw, db\n",
    "x=np.array([1,2,3])\n",
    "y=np.array([1,6,3])\n",
    "y_pred=np.array([1,2,3])    \n",
    "print(backward(x,y,y_pred))"
   ]
  },
  {
   "cell_type": "code",
   "execution_count": 10,
   "id": "3e93e41a",
   "metadata": {},
   "outputs": [
    {
     "name": "stdout",
     "output_type": "stream",
     "text": [
      "Epoch 0, Perte: 0.2605\n",
      "(array([[-1.01358521],\n",
      "       [ 2.5550218 ]]), array([[0.14550112]]))\n"
     ]
    }
   ],
   "source": [
    "def gradient_descent(X, y, lr=0.1, epochs=1000):\n",
    "    \n",
    "    num_features = X.shape[1]\n",
    "    w = np.random.randn(num_features, 1)\n",
    "    b = np.zeros((1, 1))\n",
    "    \n",
    "    for epoch in range(epochs):\n",
    "        y_pred = forward(X, w, b)\n",
    "        \n",
    "        dw, db = backward(X, y, y_pred)\n",
    "        w = w - lr * dw\n",
    "        b = b - lr * db\n",
    "        \n",
    "        if epoch % 1000 == 0:\n",
    "            current_loss = loss(y, y_pred)\n",
    "            print(f\"Epoch {epoch}, Perte: {current_loss:.4f}\")\n",
    "            \n",
    "    return w, b\n",
    "x=np.array([[1,2],[3,4]])\n",
    "y=np.array([[1],[2]])\n",
    "print(gradient_descent(x, y))"
   ]
  },
  {
   "cell_type": "code",
   "execution_count": 12,
   "id": "fe2714fc",
   "metadata": {},
   "outputs": [
    {
     "name": "stdout",
     "output_type": "stream",
     "text": [
      "Epoch 0, Perte: 0.1121\n",
      "Epoch 1000, Perte: 0.0070\n",
      "Epoch 2000, Perte: 0.0032\n",
      "Epoch 3000, Perte: 0.0020\n",
      "Epoch 4000, Perte: 0.0014\n",
      "Epoch 5000, Perte: 0.0011\n",
      "Epoch 6000, Perte: 0.0009\n",
      "Epoch 7000, Perte: 0.0008\n",
      "Epoch 8000, Perte: 0.0007\n",
      "Epoch 9000, Perte: 0.0006\n",
      " (w): [6.43167508 6.43167434]\n",
      " (b): [-2.97174705]\n"
     ]
    }
   ],
   "source": [
    "X_train = np.array([[0, 0], [0, 1], [1, 0], [1, 1]])\n",
    "y_train = np.array([[0], [1], [1], [1]])\n",
    "w_final, b_final = gradient_descent(X_train, y_train, lr=0.5, epochs=10000)\n",
    "\n",
    "print(f\" (w): {w_final.flatten()}\")\n",
    "print(f\" (b): {b_final.flatten()}\")"
   ]
  },
  {
   "cell_type": "code",
   "execution_count": 13,
   "id": "cccbc943",
   "metadata": {},
   "outputs": [
    {
     "name": "stdout",
     "output_type": "stream",
     "text": [
      "Entrée: [0, 0], Prédiction: 0\n",
      "Entrée: [0, 1], Prédiction: 1\n",
      "Entrée: [1, 0], Prédiction: 1\n",
      "Entrée: [1, 1], Prédiction: 1\n"
     ]
    }
   ],
   "source": [
    "input_1 = np.array([0, 0])\n",
    "prediction_brute_1 = forward(input_1, w_final, b_final)\n",
    "if prediction_brute_1 > 0.5:\n",
    "    resultat_1 = 1\n",
    "else:\n",
    "    resultat_1 = 0\n",
    "print(f\"Entrée: [0, 0], Prédiction: {resultat_1}\")\n",
    "\n",
    "\n",
    "input_2 = np.array([0, 1])\n",
    "prediction_brute_2 = forward(input_2, w_final, b_final)\n",
    "if prediction_brute_2 > 0.5:\n",
    "    resultat_2 = 1\n",
    "else:\n",
    "    resultat_2 = 0\n",
    "print(f\"Entrée: [0, 1], Prédiction: {resultat_2}\")\n",
    "\n",
    "\n",
    "input_3 = np.array([1, 0])\n",
    "prediction_brute_3 = forward(input_3, w_final, b_final)\n",
    "if prediction_brute_3 > 0.5:\n",
    "    resultat_3 = 1\n",
    "else:\n",
    "    resultat_3 = 0\n",
    "print(f\"Entrée: [1, 0], Prédiction: {resultat_3}\")\n",
    "\n",
    "\n",
    "input_4 = np.array([1, 1])\n",
    "prediction_brute_4 = forward(input_4, w_final, b_final)\n",
    "if prediction_brute_4 > 0.5:\n",
    "    resultat_4 = 1\n",
    "else:\n",
    "    resultat_4 = 0\n",
    "print(f\"Entrée: [1, 1], Prédiction: {resultat_4}\")"
   ]
  }
 ],
 "metadata": {
  "kernelspec": {
   "display_name": "base",
   "language": "python",
   "name": "python3"
  },
  "language_info": {
   "codemirror_mode": {
    "name": "ipython",
    "version": 3
   },
   "file_extension": ".py",
   "mimetype": "text/x-python",
   "name": "python",
   "nbconvert_exporter": "python",
   "pygments_lexer": "ipython3",
   "version": "3.11.5"
  }
 },
 "nbformat": 4,
 "nbformat_minor": 5
}
